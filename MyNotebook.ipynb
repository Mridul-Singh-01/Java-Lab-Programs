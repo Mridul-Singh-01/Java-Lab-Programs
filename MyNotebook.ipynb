{
 "cells": [
  {
   "cell_type": "markdown",
   "metadata": {},
   "source": [
    "# Jupyter Notebook"
   ]
  },
  {
   "cell_type": "markdown",
   "metadata": {},
   "source": [
    "Jupyter Notebook is an open-source web application that allows you to create and share documents that contain live code, equations, visualizations, and explanatory text. It's a popular tool among data scientists, researchers, and developers for data analysis, machine learning, and prototyping."
   ]
  },
  {
   "cell_type": "markdown",
   "metadata": {},
   "source": [
    "# What is Pandas?\n",
    "Pandas is a Python library used for working with data sets.\n",
    "It has functions for analyzing, cleaning, exploring, and manipulating data.\n",
    "# Why Use Pandas?\n",
    "Pandas allows us to analyze big data and make conclusions based on statistical theories.\n",
    "Pandas can clean messy data sets, and make them readable and relevant.\n",
    "# How to install Pandas?\n",
    "You can install by using command \"pip install pandas\"\n"
   ]
  },
  {
   "cell_type": "markdown",
   "metadata": {},
   "source": [
    "# Series\n",
    "The Pandas Series can be defined as a one-dimensional array that is capable of storing various data types. We can easily convert the list, tuple, and dictionary into series using \"series' method."
   ]
  },
  {
   "cell_type": "code",
   "execution_count": 1,
   "metadata": {},
   "outputs": [
    {
     "name": "stdout",
     "output_type": "stream",
     "text": [
      "Series([], dtype: object)\n"
     ]
    }
   ],
   "source": [
    "import pandas as pd\n",
    "#create a series with no data\n",
    "x = pd.Series()\n",
    "print (x)"
   ]
  },
  {
   "cell_type": "markdown",
   "metadata": {},
   "source": [
    "# Creating a Series using inputs\n",
    "We can create Series by using various inputs:\n",
    "Array, Dict and Scalar value"
   ]
  },
  {
   "cell_type": "code",
   "execution_count": 2,
   "metadata": {},
   "outputs": [
    {
     "name": "stdout",
     "output_type": "stream",
     "text": [
      "0    P\n",
      "1    a\n",
      "2    n\n",
      "3    d\n",
      "4    a\n",
      "5    s\n",
      "dtype: object\n"
     ]
    }
   ],
   "source": [
    "#Creating Series from Array\n",
    "import pandas as pd  \n",
    "import numpy as np  \n",
    "i = np.array(['P','a','n','d','a','s'])  \n",
    "a = pd.Series(i)  \n",
    "print(a)   "
   ]
  },
  {
   "cell_type": "code",
   "execution_count": 3,
   "metadata": {},
   "outputs": [
    {
     "name": "stdout",
     "output_type": "stream",
     "text": [
      "x    0.0\n",
      "y    1.0\n",
      "z    2.0\n",
      "dtype: float64\n"
     ]
    }
   ],
   "source": [
    "#Create a Series from dict\n",
    "import pandas as pd  \n",
    "info = {'x' : 0., 'y' : 1., 'z' : 2.}  \n",
    "a = pd.Series(info)  \n",
    "print (a)  "
   ]
  },
  {
   "cell_type": "code",
   "execution_count": 4,
   "metadata": {},
   "outputs": [
    {
     "name": "stdout",
     "output_type": "stream",
     "text": [
      "0    4\n",
      "1    4\n",
      "2    4\n",
      "3    4\n",
      "dtype: int64\n"
     ]
    }
   ],
   "source": [
    "#Create a Series using Scalar:\n",
    "import pandas as pd   \n",
    "x = pd.Series(4, index=[0, 1, 2, 3])  \n",
    "print (x)"
   ]
  },
  {
   "cell_type": "markdown",
   "metadata": {},
   "source": [
    "# Series object attributes\n",
    "Series.index    -- Defines the index of the Series. <br>\n",
    "Series.shape\t--It returns a tuple of shape of the data.<br>\n",
    "Series.dtype\t--It returns the data type of the data.<br>\n",
    "Series.size\t    --It returns the size of the data.<br>\n",
    "Series.empty\t--It returns True if Series object is empty, otherwise returns false.<br>\n",
    "Series.ndim\t    --It returns the number of dimensions in the data.<br>\n",
    "Series.itemsize\t--It returns the size of the datatype of item.<br>"
   ]
  },
  {
   "cell_type": "code",
   "execution_count": 5,
   "metadata": {},
   "outputs": [
    {
     "name": "stdout",
     "output_type": "stream",
     "text": [
      "RangeIndex(start=0, stop=4, step=1)\n",
      "[2 4 6 8]\n",
      "int64\n",
      "4\n",
      "1\n",
      "(4,)\n",
      "False\n"
     ]
    }
   ],
   "source": [
    "import pandas as pd   \n",
    "x=pd.Series(data=[2,4,6,8])   \n",
    "y=pd.Series(data=[11.2,18.6,22.5], index=['a','b','c'])   \n",
    "print(x.index)   \n",
    "print(x.values)   \n",
    "print(x.dtype)\n",
    "print(x.size)\n",
    "print(x.ndim)\n",
    "print(x.shape)\n",
    "print(x.empty)"
   ]
  },
  {
   "cell_type": "code",
   "execution_count": 9,
   "metadata": {},
   "outputs": [
    {
     "name": "stdout",
     "output_type": "stream",
     "text": [
      "1\n",
      "a    1\n",
      "b    2\n",
      "c    3\n",
      "dtype: int64\n",
      "c    3\n",
      "d    4\n",
      "e    5\n",
      "dtype: int64\n",
      "e    5\n",
      "d    4\n",
      "c    3\n",
      "b    2\n",
      "a    1\n",
      "dtype: int64\n",
      "1\n",
      "a    1\n",
      "c    3\n",
      "d    4\n",
      "dtype: int64\n"
     ]
    }
   ],
   "source": [
    "#Accessing Elements of a Series and Slicing\n",
    "import pandas as pd\n",
    "x = pd.Series([1,2,3,4,5],index = ['a','b','c','d','e'])\n",
    "print (x[0])\n",
    "print (x[:3])\n",
    "print (x[-3:])\n",
    "print(x[::-1])\n",
    "print (x['a'])\n",
    "print (x[['a','c','d']])"
   ]
  },
  {
   "cell_type": "code",
   "execution_count": 10,
   "metadata": {},
   "outputs": [
    {
     "name": "stdout",
     "output_type": "stream",
     "text": [
      "a    1\n",
      "b    2\n",
      "dtype: int64\n",
      "d    4\n",
      "e    5\n",
      "dtype: int64\n"
     ]
    }
   ],
   "source": [
    "# Viewing/Inspecting Data\n",
    "# df.head(n): It returns first n rows of the DataFrame.\n",
    "# df.tail(n): It returns last n rows of the DataFrame.\n",
    "\n",
    "import pandas as pd\n",
    "x = pd.Series([1,2,3,4,5],index = ['a','b','c','d','e'])\n",
    "print (x.head(2))\n",
    "print (x.tail(2))"
   ]
  },
  {
   "cell_type": "markdown",
   "metadata": {},
   "source": [
    "# What is DataFrame?\n",
    "Pandas DataFrame is a widely used data structure which works with a two-dimensional array.DataFrames are similar to SQL tables or the spreadsheets that you work with in Excel.\n",
    "# Create a DataFrame\n",
    "We can create a DataFrame using following ways:<br>\n",
    "dict<br>\n",
    "Lists<br>\n",
    "Numpy ndarrrays<br>\n",
    "Series"
   ]
  },
  {
   "cell_type": "code",
   "execution_count": 14,
   "metadata": {},
   "outputs": [
    {
     "name": "stdout",
     "output_type": "stream",
     "text": [
      "Empty DataFrame\n",
      "Empty DataFrame\n",
      "Columns: []\n",
      "Index: []\n",
      "DataFrame from Lists\n",
      "   0\n",
      "0  1\n",
      "1  2\n",
      "2  3\n",
      "3  4\n",
      "4  5\n",
      "DataFrame from Dict\n",
      "    Name  Age\n",
      "0    Tom   28\n",
      "1   Jack   34\n",
      "2  Steve   29\n",
      "3  Ricky   42\n",
      "DataFrame from List of Dicts\n",
      "        a       b       c\n",
      "0  [1, 2]  [3, 4]     NaN\n",
      "1  [5, 4]  [6, 4]  [7, 4]\n",
      "DataFrame from NumPy ndarrays\n",
      "     0    1    2     3\n",
      "0   10   20   30   NaN\n",
      "1  100  200  300   NaN\n",
      "2  -10  -20  -30 -40.0\n"
     ]
    }
   ],
   "source": [
    "#Create an empty DataFrame\n",
    "\n",
    "import pandas as pd\n",
    "df = pd.DataFrame()\n",
    "print(\"Empty DataFrame\")\n",
    "print (df)\n",
    "\n",
    "#Create a DataFrame from Lists\n",
    "import pandas as pd\n",
    "data = [1,2,3,4,5]\n",
    "df = pd.DataFrame(data)\n",
    "print(\"DataFrame from Lists\")\n",
    "print (df)\n",
    "\n",
    "#Create a DataFrame from Dict of ndarrays / Lists\n",
    "import pandas as pd\n",
    "data = {'Name':['Tom', 'Jack', 'Steve', 'Ricky'],'Age':[28,34,29,42]}\n",
    "df = pd.DataFrame(data)\n",
    "print(\"DataFrame from Dict\")\n",
    "print (df)\n",
    "\n",
    "#Create a DataFrame from List of Dicts\n",
    "import pandas as pd\n",
    "data = [{'a': [1,2], 'b': [3,4]},{'a': [5,4], 'b': [6,4], 'c': [7,4]}]\n",
    "df = pd.DataFrame(data)\n",
    "print(\"DataFrame from List of Dicts\")\n",
    "print (df)\n",
    "\n",
    "#Creation of DataFrame from NumPy ndarrays\n",
    "import pandas as pd\n",
    "import numpy as np\n",
    "array1 = np.array([10,20, 30])\n",
    "array2 = np.array([100,200, 300])\n",
    "array3 = np.array([-10,-20,-30, -40])\n",
    "df = pd.DataFrame([array1,array2,array3])\n",
    "print(\"DataFrame from NumPy ndarrays\")\n",
    "print (df)\n"
   ]
  },
  {
   "cell_type": "code",
   "execution_count": 18,
   "metadata": {},
   "outputs": [
    {
     "name": "stdout",
     "output_type": "stream",
     "text": [
      "0      Tom\n",
      "1     Jack\n",
      "2    Steve\n",
      "3    Ricky\n",
      "Name: Name, dtype: object\n",
      "    Name  Age    Address\n",
      "0    Tom   28      Delhi\n",
      "1   Jack   34  Bangalore\n",
      "2  Steve   29    Chennai\n",
      "3  Ricky   42       Pune\n",
      "Add new column using existing DataFrame columns\n",
      "    Name  Age    Address            Key\n",
      "0    Tom   28      Delhi       TomDelhi\n",
      "1   Jack   34  Bangalore  JackBangalore\n",
      "2  Steve   29    Chennai   SteveChennai\n",
      "3  Ricky   42       Pune      RickyPune\n",
      "Delete the key column:\n",
      "    Name  Age    Address\n",
      "0    Tom   28      Delhi\n",
      "1   Jack   34  Bangalore\n",
      "2  Steve   29    Chennai\n",
      "3  Ricky   42       Pune\n"
     ]
    }
   ],
   "source": [
    "#Column Selection and slicing\n",
    "import pandas as pd\n",
    "data = {'Name':['Tom', 'Jack', 'Steve', 'Ricky'],'Age':[28,34,29,42]}\n",
    "df = pd.DataFrame(data)\n",
    "print (df['Name'])\n",
    "\n",
    "#Column Addition\n",
    "import pandas as pd\n",
    "data = {'Name':['Tom', 'Jack', 'Steve', 'Ricky'],'Age':[28,34,29,42]}\n",
    "df = pd.DataFrame(data)\n",
    "df['Address'] = ['Delhi','Bangalore','Chennai','Pune']\n",
    "print (df)\n",
    "print (\"Add new column using existing DataFrame columns\")\n",
    "df['Key']=df['Name']+df['Address']  \n",
    "print (df)\n",
    "#deleting Comlumns\n",
    "print (\"Delete the key column:\")  \n",
    "del df['Key']  \n",
    "print (df)  \n"
   ]
  },
  {
   "cell_type": "code",
   "execution_count": 37,
   "metadata": {},
   "outputs": [
    {
     "name": "stdout",
     "output_type": "stream",
     "text": [
      "    Name  Age\n",
      "0    Tom   28\n",
      "1   Jack   34\n",
      "2  Steve   29\n",
      "3  Ricky   42\n",
      "Name    Tom\n",
      "Age      28\n",
      "Name: 0, dtype: object\n",
      "    Name\n",
      "0    Tom\n",
      "1   Jack\n",
      "2  Steve\n",
      "Name    Steve\n",
      "Age        29\n",
      "Name: 2, dtype: object\n"
     ]
    }
   ],
   "source": [
    "#Row Selection:\n",
    "#Rows can be selected by passing row label to a loc function.\n",
    "#Rows can be selected by passing integer location to an iloc function.\n",
    "\n",
    "import pandas as pd\n",
    "data = {'Name':['Tom', 'Jack', 'Steve', 'Ricky'],'Age':[28,34,29,42]}\n",
    "df = pd.DataFrame(data)\n",
    "print(df)\n",
    "print (df.loc[0])\n",
    "print (df.loc[0:2, ['Name']])\n",
    "print (df.iloc[2])\n"
   ]
  },
  {
   "cell_type": "code",
   "execution_count": 42,
   "metadata": {},
   "outputs": [
    {
     "name": "stdout",
     "output_type": "stream",
     "text": [
      "    Name  Age\n",
      "0    Tom   28\n",
      "1   Jack   34\n",
      "2  Steve   29\n",
      "3  Ricky   42\n",
      "4   Ajay   23\n",
      "5  Rahul   24\n"
     ]
    }
   ],
   "source": [
    "#Row Addition\n",
    "import pandas as pd\n",
    "data = {'Name':['Tom', 'Jack', 'Steve', 'Ricky'],'Age':[28,34,29,42]}\n",
    "df1 = pd.DataFrame(data)\n",
    "df2 = pd.DataFrame([['Ajay', 23], ['Rahul', 24]], columns = ['Name', 'Age'])\n",
    "df1 = pd.concat([df1,df2])\n",
    "df1 = df1.reset_index(drop=True)\n",
    "print (df1)"
   ]
  },
  {
   "cell_type": "code",
   "execution_count": 41,
   "metadata": {},
   "outputs": [
    {
     "name": "stdout",
     "output_type": "stream",
     "text": [
      "    Name  Age\n",
      "0    Tom   28\n",
      "1   Jack   34\n",
      "2  Steve   29\n",
      "3  Ricky   42\n",
      "    Name  Age\n",
      "2  Steve   29\n",
      "3  Ricky   42\n"
     ]
    }
   ],
   "source": [
    "#Row Deletion\n",
    "import pandas as pd\n",
    "data = {'Name':['Tom', 'Jack', 'Steve', 'Ricky'],'Age':[28,34,29,42]}\n",
    "df1 = pd.DataFrame(data)\n",
    "print(df1)\n",
    "df1 = df1.drop([0,1])\n",
    "print (df1)"
   ]
  },
  {
   "cell_type": "markdown",
   "metadata": {},
   "source": [
    "# The statistics functions \n",
    "Can be applied to a Series, which are as follows:\n",
    "\n",
    "df.describe(): It returns the summary statistics for the numerical columns.<br>\n",
    "The describe() method is used for calculating some statistical data like percentile, mean and std of the numerical values of the Series or DataFrame.<br>\n",
    "df.mean() : It returns the mean of all the columns.<br>\n",
    "The mean() function is used to return the mean of the values for the requested axis.<br>\n",
    "df.count(): It returns the count of all the non-null values in each dataframe column.<br>\n",
    "count() is defined as a method that is used to count the number of non-NA cells for each column or row.<br>\n",
    "df.max(): It returns the highest value from each of the columns.<br>\n",
    "df.min(): It returns the lowest value from each of the columns.<br>\n",
    "df.median(): It returns the median from each of the columns.<br>\n",
    "df.std(): It returns the standard deviation from each of the columns.<br>"
   ]
  },
  {
   "cell_type": "code",
   "execution_count": 40,
   "metadata": {},
   "outputs": [
    {
     "name": "stdout",
     "output_type": "stream",
     "text": [
      "count     4\n",
      "unique    4\n",
      "top       a\n",
      "freq      1\n",
      "dtype: object\n"
     ]
    }
   ],
   "source": [
    "#use of describe() function\n",
    "import numpy as np\n",
    "data = np.array(['a','b','c','d'])\n",
    "s = pd.Series(data)\n",
    "print (s.describe())"
   ]
  },
  {
   "cell_type": "code",
   "execution_count": 43,
   "metadata": {},
   "outputs": [
    {
     "name": "stdout",
     "output_type": "stream",
     "text": [
      "3.0\n"
     ]
    }
   ],
   "source": [
    "#use of mean() function\n",
    "import numpy as np\n",
    "data = np.array([1,2,3,4,5])\n",
    "s = pd.Series(data)\n",
    "print (s.mean())\n"
   ]
  },
  {
   "cell_type": "code",
   "execution_count": 44,
   "metadata": {},
   "outputs": [
    {
     "name": "stdout",
     "output_type": "stream",
     "text": [
      "5\n"
     ]
    }
   ],
   "source": [
    "#use of count() function\n",
    "import numpy as np\n",
    "data = np.array([1,2,3,4,5])\n",
    "s = pd.Series(data)\n",
    "print (s.count())\n"
   ]
  },
  {
   "cell_type": "code",
   "execution_count": 45,
   "metadata": {},
   "outputs": [
    {
     "name": "stdout",
     "output_type": "stream",
     "text": [
      "1\n",
      "5\n"
     ]
    }
   ],
   "source": [
    "#use of min and max function\n",
    "import numpy as np\n",
    "data = np.array([1,2,3,4,5])\n",
    "s = pd.Series(data)\n",
    "print (s.min())\n",
    "print (s.max())"
   ]
  },
  {
   "cell_type": "code",
   "execution_count": 46,
   "metadata": {},
   "outputs": [
    {
     "name": "stdout",
     "output_type": "stream",
     "text": [
      "3.0\n"
     ]
    }
   ],
   "source": [
    "#use of median() function\n",
    "import numpy as np\n",
    "data = np.array([1,2,3,4,5])\n",
    "s = pd.Series(data)\n",
    "print (s.median())\n"
   ]
  },
  {
   "cell_type": "code",
   "execution_count": 47,
   "metadata": {},
   "outputs": [
    {
     "name": "stdout",
     "output_type": "stream",
     "text": [
      "1.5811388300841898\n"
     ]
    }
   ],
   "source": [
    "#use of std() function\n",
    "import numpy as np\n",
    "data = np.array([1,2,3,4,5])\n",
    "s = pd.Series(data)\n",
    "print (s.std())\n"
   ]
  }
 ],
 "metadata": {
  "kernelspec": {
   "display_name": "Python 3",
   "language": "python",
   "name": "python3"
  },
  "language_info": {
   "codemirror_mode": {
    "name": "ipython",
    "version": 3
   },
   "file_extension": ".py",
   "mimetype": "text/x-python",
   "name": "python",
   "nbconvert_exporter": "python",
   "pygments_lexer": "ipython3",
   "version": "3.10.7"
  },
  "orig_nbformat": 4
 },
 "nbformat": 4,
 "nbformat_minor": 2
}
